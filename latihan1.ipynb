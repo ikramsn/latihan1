{
 "cells": [
  {
   "cell_type": "code",
   "execution_count": 2,
   "metadata": {},
   "outputs": [
    {
     "name": "stdout",
     "output_type": "stream",
     "text": [
      "HELLO MULU DAH PERASAAN\n",
      "BELAJAR DULU PAK!\n",
      "=========================\n",
      "10 + 5 = 15\n",
      "10 - 5 = 5\n",
      "10 * 5 = 50\n",
      "=========================\n",
      "Masukan angka = 5\n",
      "Masukan angka = 20\n",


      "5 * 20 = 100\n"
     ]
    }
   ],
   "source": [
    "print(\"HELLO MULU DAH PERASAAN\")\n",
    "print(\"BELAJAR DULU PAK!\")\n",
    "\n",
    "print(\"=========================\")\n",
    "\n",
    "a = 10\n",
    "b = 5\n",
    "\n",
    "\n",
    "hasil = a + b\n",
    "print(a,'+',b,'=',hasil)\n",
    "\n",
    "hasil = a - b\n",
    "print(a,'-',b,'=',hasil)\n",
    "\n",
    "hasil = a * b\n",
    "print(a,'*',b,'=',hasil)\n",
    "\n",
    "print(\"=========================\")\n",
    "\n",
    "a = int(input(\"Masukan angka = \"))\n",
    "b = int(input(\"Masukan angka = \"))\n",


    "hasil = a * b\n",


    "print(a,'*',b,'=',hasil)"
   ]
  }
 ],
 "metadata": {
  "kernelspec": {
   "display_name": "Python 3",
   "language": "python",
   "name": "python3"
  },
  "language_info": {
   "codemirror_mode": {
    "name": "ipython",
    "version": 3
   },
   "file_extension": ".py",
   "mimetype": "text/x-python",
   "name": "python",
   "nbconvert_exporter": "python",
   "pygments_lexer": "ipython3",
   "version": "3.8.5"
  }
 },
 "nbformat": 4,
 "nbformat_minor": 4
}
